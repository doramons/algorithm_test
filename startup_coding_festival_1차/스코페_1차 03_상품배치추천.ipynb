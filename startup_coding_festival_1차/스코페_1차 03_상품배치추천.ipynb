{
 "cells": [
  {
   "cell_type": "code",
   "execution_count": 1,
   "metadata": {},
   "outputs": [],
   "source": [
    "# 처음답"
   ]
  },
  {
   "cell_type": "code",
   "execution_count": null,
   "metadata": {},
   "outputs": [],
   "source": [
    "n = int(input())\n",
    "for _ in range(n):\n",
    "    space = input()"
   ]
  },
  {
   "cell_type": "code",
   "execution_count": 2,
   "metadata": {},
   "outputs": [],
   "source": [
    "s = ['1110','1110','0110','0000']"
   ]
  },
  {
   "cell_type": "code",
   "execution_count": null,
   "metadata": {},
   "outputs": [],
   "source": [
    "for size in range(1,n+1): # 상품 크기별로(size: 1~n)\n",
    "    for i in range(len(s)):\n",
    "        for j in range(len(s[i])):\n",
    "            if s[i][j] == 1:\n",
    "                for \n",
    "            "
   ]
  },
  {
   "cell_type": "code",
   "execution_count": 7,
   "metadata": {
    "scrolled": true
   },
   "outputs": [
    {
     "name": "stdout",
     "output_type": "stream",
     "text": [
      "['1110']\n",
      "[]\n",
      "[]\n",
      "[]\n",
      "[]\n",
      "[]\n",
      "[]\n",
      "[]\n",
      "['1110', '1110']\n",
      "['1110']\n",
      "[]\n",
      "['1110']\n",
      "[]\n",
      "[]\n",
      "[]\n",
      "[]\n",
      "['1110', '1110', '0110']\n",
      "['1110', '0110']\n",
      "['0110']\n",
      "['1110', '0110']\n",
      "['0110']\n",
      "[]\n",
      "[]\n",
      "[]\n",
      "['1110', '1110', '0110', '0000']\n",
      "['1110', '0110', '0000']\n",
      "['0110', '0000']\n",
      "['1110', '0110', '0000']\n",
      "['0110', '0000']\n",
      "['0000']\n",
      "['0000']\n",
      "[]\n"
     ]
    }
   ],
   "source": [
    "for size in range(1,5):\n",
    "    for i in range(len(s)):\n",
    "            for j in range(len(s[i])):\n",
    "                if s[i][j] =='1':\n",
    "                    print(s[i:size][j:size])"
   ]
  },
  {
   "cell_type": "code",
   "execution_count": 8,
   "metadata": {},
   "outputs": [],
   "source": [
    "s = ['1110','1110','0110','0000']"
   ]
  },
  {
   "cell_type": "code",
   "execution_count": 11,
   "metadata": {},
   "outputs": [
    {
     "data": {
      "text/plain": [
       "['1110', '1110']"
      ]
     },
     "execution_count": 11,
     "metadata": {},
     "output_type": "execute_result"
    }
   ],
   "source": [
    "s[0:2][0:2]"
   ]
  },
  {
   "cell_type": "code",
   "execution_count": 20,
   "metadata": {},
   "outputs": [
    {
     "name": "stdout",
     "output_type": "stream",
     "text": [
      "11\n",
      "11\n"
     ]
    }
   ],
   "source": [
    "print(s[0][0:2])\n",
    "print(s[1][0:2])"
   ]
  },
  {
   "cell_type": "code",
   "execution_count": 37,
   "metadata": {},
   "outputs": [
    {
     "name": "stdout",
     "output_type": "stream",
     "text": [
      "size[1] = 1\n",
      "size[2] = 2\n",
      "size[3] = 1\n"
     ]
    }
   ],
   "source": [
    "n = 4\n",
    "s = ['1110','1110','0110','0000']\n",
    "for size in range(1,n):\n",
    "    cnt_box = 0\n",
    "    for i in range(n):\n",
    "        for j in range(len(s[i])):\n",
    "            cnt = 0\n",
    "            if s[i][j] == '1':\n",
    "                for a in range(i,size):\n",
    "                    for b in range(j,size):\n",
    "                        cnt += int(s[a][b])\n",
    "            if cnt == size:\n",
    "                cnt_box += 1\n",
    "    if cnt_box != 0:\n",
    "        print(f'size[{size}] = {cnt_box}')    "
   ]
  },
  {
   "cell_type": "code",
   "execution_count": 39,
   "metadata": {},
   "outputs": [
    {
     "data": {
      "text/plain": [
       "1"
      ]
     },
     "execution_count": 39,
     "metadata": {},
     "output_type": "execute_result"
    }
   ],
   "source": [
    "s[0].count('1'*2)"
   ]
  },
  {
   "cell_type": "code",
   "execution_count": 42,
   "metadata": {},
   "outputs": [
    {
     "data": {
      "text/plain": [
       "'1'"
      ]
     },
     "execution_count": 42,
     "metadata": {},
     "output_type": "execute_result"
    }
   ],
   "source": [
    "s[1][0]"
   ]
  },
  {
   "cell_type": "code",
   "execution_count": 85,
   "metadata": {},
   "outputs": [
    {
     "name": "stdout",
     "output_type": "stream",
     "text": [
      "total: 11\n",
      "size[1]: 8\n",
      "size[2]: 3\n"
     ]
    }
   ],
   "source": [
    "n = 4\n",
    "s = ['1110','1110','0110','0000']\n",
    "cnt = 0\n",
    "square = 0\n",
    "total = 0\n",
    "save = []\n",
    "for size in range(1,n+1):\n",
    "    cnt = 0\n",
    "    for i in range(len(s)):\n",
    "        for j in range(len(s[i])):\n",
    "            square = 0\n",
    "            if s[i][j] == '1':\n",
    "                for a in range(i,min(i+size,n)):\n",
    "                    for b in range(j,min(j+size,n)):\n",
    "                        if s[a][b] == '1':\n",
    "                            square += 1\n",
    "            if square == size**2:\n",
    "                cnt +=1\n",
    "    if cnt >= 1:\n",
    "        total += cnt\n",
    "        save.append(f'size[{size}]: {cnt}')\n",
    "print(f'total: {total}')\n",
    "for x in save:\n",
    "    print(x)"
   ]
  },
  {
   "cell_type": "code",
   "execution_count": 63,
   "metadata": {},
   "outputs": [
    {
     "data": {
      "text/plain": [
       "'1'"
      ]
     },
     "execution_count": 63,
     "metadata": {},
     "output_type": "execute_result"
    }
   ],
   "source": [
    "s[0][0]"
   ]
  },
  {
   "cell_type": "code",
   "execution_count": 82,
   "metadata": {},
   "outputs": [],
   "source": [
    "x = []"
   ]
  },
  {
   "cell_type": "code",
   "execution_count": 83,
   "metadata": {},
   "outputs": [],
   "source": [
    "x.append(f'size[{size}]: {cnt}')"
   ]
  },
  {
   "cell_type": "code",
   "execution_count": 84,
   "metadata": {},
   "outputs": [
    {
     "data": {
      "text/plain": [
       "['size[4]: 0']"
      ]
     },
     "execution_count": 84,
     "metadata": {},
     "output_type": "execute_result"
    }
   ],
   "source": [
    "x"
   ]
  },
  {
   "cell_type": "code",
   "execution_count": 87,
   "metadata": {},
   "outputs": [
    {
     "name": "stdout",
     "output_type": "stream",
     "text": [
      "4\n",
      "1110\n",
      "1110\n",
      "0110\n",
      "0000\n",
      "total: 11\n",
      "size[1]: 8\n",
      "size[2]: 3\n"
     ]
    }
   ],
   "source": [
    "n = int(input())\n",
    "s = []\n",
    "for _ in range(n):\n",
    "    put = str(input())\n",
    "    s.append(put)\n",
    "cnt = 0\n",
    "square = 0\n",
    "total = 0\n",
    "save = []\n",
    "for size in range(1,n+1):\n",
    "    cnt = 0\n",
    "    for i in range(len(s)):\n",
    "        for j in range(len(s[i])):\n",
    "            square = 0\n",
    "            if s[i][j] == '1':\n",
    "                for a in range(i,min(i+size,n)):\n",
    "                    for b in range(j,min(j+size,n)):\n",
    "                        if s[a][b] == '1':\n",
    "                            square += 1\n",
    "            if square == size**2:\n",
    "                cnt +=1\n",
    "    if cnt >= 1:\n",
    "        total += cnt\n",
    "        save.append(f'size[{size}]: {cnt}')\n",
    "print(f'total: {total}')\n",
    "for x in save:\n",
    "    print(x)"
   ]
  },
  {
   "cell_type": "code",
   "execution_count": 90,
   "metadata": {},
   "outputs": [
    {
     "name": "stdout",
     "output_type": "stream",
     "text": [
      "4\n",
      "1110\n",
      "1110\n",
      "0110\n",
      "0000\n",
      "total: 11\n",
      "size[1]: 8\n",
      "size[2]: 3\n"
     ]
    }
   ],
   "source": [
    "n = int(input())\n",
    "s = []\n",
    "for _ in range(n):\n",
    "    put = str(input())\n",
    "    s.append(put)\n",
    "cnt = 0\n",
    "square = 0\n",
    "total = 0\n",
    "save = []\n",
    "for size in range(1,n+1):\n",
    "    cnt = 0\n",
    "    for i in range(len(s)):\n",
    "        for j in range(len(s[i])):\n",
    "            square = 0\n",
    "            if s[i][j] == '1':\n",
    "                if i + size <= n:\n",
    "                    for a in range(i,min(i+size,n)):\n",
    "                        for b in range(j,min(j+size,n)):\n",
    "                            if s[a][b] == '1':\n",
    "                                square += 1\n",
    "            if square == size**2:\n",
    "                cnt +=1\n",
    "    if cnt >= 1:\n",
    "        total += cnt\n",
    "        save.append(f'size[{size}]: {cnt}')\n",
    "print(f'total: {total}')\n",
    "for x in save:\n",
    "    print(x)"
   ]
  }
 ],
 "metadata": {
  "kernelspec": {
   "display_name": "Python 3",
   "language": "python",
   "name": "python3"
  },
  "language_info": {
   "codemirror_mode": {
    "name": "ipython",
    "version": 3
   },
   "file_extension": ".py",
   "mimetype": "text/x-python",
   "name": "python",
   "nbconvert_exporter": "python",
   "pygments_lexer": "ipython3",
   "version": "3.8.5"
  }
 },
 "nbformat": 4,
 "nbformat_minor": 4
}
