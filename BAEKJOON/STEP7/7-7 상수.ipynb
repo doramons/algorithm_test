{
 "cells": [
  {
   "cell_type": "code",
   "execution_count": 1,
   "metadata": {},
   "outputs": [],
   "source": [
    "#처음답"
   ]
  },
  {
   "cell_type": "code",
   "execution_count": 6,
   "metadata": {},
   "outputs": [
    {
     "name": "stdout",
     "output_type": "stream",
     "text": [
      "734 893\n",
      "437\n"
     ]
    }
   ],
   "source": [
    "a, b = map(int, input().split())\n",
    "a2 = a%10 *100 + a//10%10*10 + a//100\n",
    "b2 = b%10 *100 + b//10%10*10 + b//100\n",
    "if a2 > b2:\n",
    "    print(a2)\n",
    "else:\n",
    "    print(b2)"
   ]
  },
  {
   "cell_type": "code",
   "execution_count": null,
   "metadata": {},
   "outputs": [],
   "source": []
  }
 ],
 "metadata": {
  "kernelspec": {
   "display_name": "Python 3",
   "language": "python",
   "name": "python3"
  },
  "language_info": {
   "codemirror_mode": {
    "name": "ipython",
    "version": 3
   },
   "file_extension": ".py",
   "mimetype": "text/x-python",
   "name": "python",
   "nbconvert_exporter": "python",
   "pygments_lexer": "ipython3",
   "version": "3.8.5"
  }
 },
 "nbformat": 4,
 "nbformat_minor": 4
}
