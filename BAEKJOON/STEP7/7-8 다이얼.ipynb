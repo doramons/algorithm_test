{
 "cells": [
  {
   "cell_type": "code",
   "execution_count": 2,
   "metadata": {},
   "outputs": [],
   "source": [
    "#처음답"
   ]
  },
  {
   "cell_type": "code",
   "execution_count": 12,
   "metadata": {},
   "outputs": [
    {
     "name": "stdout",
     "output_type": "stream",
     "text": [
      "UNUCIC\n",
      "36\n"
     ]
    }
   ],
   "source": [
    "two = ['A','B','C']\n",
    "three = ['D','E','F']\n",
    "four = ['G','H','I']\n",
    "five = ['J','K','L']\n",
    "six = ['M','N','O']\n",
    "seven = ['P','Q','R','S']\n",
    "eight = ['T','U','V']\n",
    "nine = ['W','X','Y','Z']\n",
    "S = input().strip()\n",
    "S2 = \"\"\n",
    "t = 0\n",
    "for i in S:\n",
    "    if i in two:\n",
    "        S2 += '2'\n",
    "    elif i in three:\n",
    "        S2 +='3'\n",
    "    elif i in four:\n",
    "        S2 +='4'\n",
    "    elif i in five:\n",
    "        S2 +='5'\n",
    "    elif i in six:\n",
    "        S2 +='6'\n",
    "    elif i in seven:\n",
    "        S2 +='7'\n",
    "    elif i in eight:\n",
    "        S2 +='8'\n",
    "    elif i in nine:\n",
    "        S2 +='9'\n",
    "for i in S2:\n",
    "    t += (int(i)+1)\n",
    "print(t)"
   ]
  },
  {
   "cell_type": "code",
   "execution_count": null,
   "metadata": {},
   "outputs": [],
   "source": []
  }
 ],
 "metadata": {
  "kernelspec": {
   "display_name": "Python 3",
   "language": "python",
   "name": "python3"
  },
  "language_info": {
   "codemirror_mode": {
    "name": "ipython",
    "version": 3
   },
   "file_extension": ".py",
   "mimetype": "text/x-python",
   "name": "python",
   "nbconvert_exporter": "python",
   "pygments_lexer": "ipython3",
   "version": "3.8.5"
  }
 },
 "nbformat": 4,
 "nbformat_minor": 4
}
