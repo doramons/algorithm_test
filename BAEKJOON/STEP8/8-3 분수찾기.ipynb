{
 "cells": [
  {
   "cell_type": "code",
   "execution_count": 2,
   "metadata": {},
   "outputs": [],
   "source": [
    "#처음답"
   ]
  },
  {
   "cell_type": "code",
   "execution_count": 23,
   "metadata": {
    "scrolled": true
   },
   "outputs": [
    {
     "name": "stdout",
     "output_type": "stream",
     "text": [
      "14\n",
      "2/4\n"
     ]
    }
   ],
   "source": [
    "s = int(input())\n",
    "c = 0\n",
    "if s == 1:\n",
    "    print('1/1')\n",
    "else:\n",
    "    for i in range(1,s+1):\n",
    "        c += i\n",
    "        if s <= c:\n",
    "            if i%2 == 0:\n",
    "                print((i-c+s),'/',(1+c-s),sep=\"\")\n",
    "                break\n",
    "            else:\n",
    "                print((1+c-s),'/',(i-c+s),sep=\"\")\n",
    "                break\n",
    "\n",
    "            "
   ]
  },
  {
   "cell_type": "code",
   "execution_count": 10,
   "metadata": {},
   "outputs": [
    {
     "name": "stdout",
     "output_type": "stream",
     "text": [
      "1.\n"
     ]
    }
   ],
   "source": [
    "print(1,'.', sep = \"\")"
   ]
  }
 ],
 "metadata": {
  "kernelspec": {
   "display_name": "Python 3",
   "language": "python",
   "name": "python3"
  },
  "language_info": {
   "codemirror_mode": {
    "name": "ipython",
    "version": 3
   },
   "file_extension": ".py",
   "mimetype": "text/x-python",
   "name": "python",
   "nbconvert_exporter": "python",
   "pygments_lexer": "ipython3",
   "version": "3.8.5"
  }
 },
 "nbformat": 4,
 "nbformat_minor": 4
}
