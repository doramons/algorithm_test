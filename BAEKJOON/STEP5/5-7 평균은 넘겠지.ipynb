{
 "cells": [
  {
   "cell_type": "code",
   "execution_count": 2,
   "metadata": {},
   "outputs": [],
   "source": [
    "# 처음답"
   ]
  },
  {
   "cell_type": "code",
   "execution_count": null,
   "metadata": {},
   "outputs": [
    {
     "name": "stdout",
     "output_type": "stream",
     "text": [
      "5\n",
      "5 50 50 70 80 100\n",
      "40.000%\n",
      "7 100 95 90 80 70 60 50\n",
      "57.143%\n"
     ]
    }
   ],
   "source": [
    "C = int(input()) #테스트 케이스의 개수\n",
    "avg_up = []\n",
    "for i in range(C):\n",
    "    avg_up = []\n",
    "    score_list = list(map(int, input().split()))\n",
    "    avg = sum(score_list[1:])/score_list[0]\n",
    "    for j in range(1,len(score_list)):\n",
    "        if score_list[j] > avg:\n",
    "            avg_up.append(score_list[j])\n",
    "    print(\"%.3f\" %round(len(avg_up)/int(score_list[0])*100,3),end ='%\\n')\n",
    "    # 공백없이 붙이려면 end = \"%\" but 그러면 다음 출력값이 바로 옆에 붙기 때문에 \\n도 같이 입력해야한다\n",
    "    # 반올림 해서 뒤에 숫자가 없는 곳에도 0을 붙이려면 \"%.3f\"%숫자 -> 소수점 3자리까지 표시"
   ]
  },
  {
   "cell_type": "code",
   "execution_count": 9,
   "metadata": {},
   "outputs": [
    {
     "ename": "SyntaxError",
     "evalue": "invalid syntax (<ipython-input-9-93631b32e62d>, line 1)",
     "output_type": "error",
     "traceback": [
      "\u001b[1;36m  File \u001b[1;32m\"<ipython-input-9-93631b32e62d>\"\u001b[1;36m, line \u001b[1;32m1\u001b[0m\n\u001b[1;33m    print(1'%')\u001b[0m\n\u001b[1;37m           ^\u001b[0m\n\u001b[1;31mSyntaxError\u001b[0m\u001b[1;31m:\u001b[0m invalid syntax\n"
     ]
    }
   ],
   "source": []
  },
  {
   "cell_type": "code",
   "execution_count": null,
   "metadata": {},
   "outputs": [],
   "source": []
  }
 ],
 "metadata": {
  "kernelspec": {
   "display_name": "Python 3",
   "language": "python",
   "name": "python3"
  },
  "language_info": {
   "codemirror_mode": {
    "name": "ipython",
    "version": 3
   },
   "file_extension": ".py",
   "mimetype": "text/x-python",
   "name": "python",
   "nbconvert_exporter": "python",
   "pygments_lexer": "ipython3",
   "version": "3.8.5"
  }
 },
 "nbformat": 4,
 "nbformat_minor": 4
}
