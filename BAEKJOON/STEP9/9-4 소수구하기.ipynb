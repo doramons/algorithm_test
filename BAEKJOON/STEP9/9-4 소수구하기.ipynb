{
 "cells": [
  {
   "cell_type": "code",
   "execution_count": 1,
   "metadata": {},
   "outputs": [],
   "source": [
    "#처음답"
   ]
  },
  {
   "cell_type": "code",
   "execution_count": null,
   "metadata": {},
   "outputs": [],
   "source": [
    "import sys\n",
    "m,n = map(int,sys.stdin.readline().split())\n",
    "for i in range(m,n+1):\n",
    "    count = 0\n",
    "    for j in range(1,i+1):\n",
    "        if i%j == 0:\n",
    "            count += 1\n",
    "            if count > 2:\n",
    "                break\n",
    "    if count == 2:\n",
    "        print(i)\n",
    "# 시간초과"
   ]
  },
  {
   "cell_type": "code",
   "execution_count": null,
   "metadata": {},
   "outputs": [],
   "source": []
  },
  {
   "cell_type": "code",
   "execution_count": null,
   "metadata": {},
   "outputs": [],
   "source": [
    "#다시쓴답"
   ]
  },
  {
   "cell_type": "code",
   "execution_count": 6,
   "metadata": {},
   "outputs": [
    {
     "name": "stdout",
     "output_type": "stream",
     "text": [
      "3 16\n",
      "3\n",
      "5\n",
      "7\n",
      "11\n",
      "13\n"
     ]
    }
   ],
   "source": [
    "m,n = map(int,input().split())\n",
    "\n",
    "for i in range(m,n+1):\n",
    "    count = 0\n",
    "    if i == 0: #1은 소수가 아니므로 pass\n",
    "        pass\n",
    "    else:\n",
    "        for j in range(2,int(i**0.5)+1): # 소수구할때는 2부터 해당수의 제곱근 까지만 확인하면 됨(시간줄일 수 있음)\n",
    "            if i%j == 0:\n",
    "                count += 1\n",
    "                if count > 0:\n",
    "                    break\n",
    "        if count == 0:\n",
    "            print(i)"
   ]
  },
  {
   "cell_type": "code",
   "execution_count": 9,
   "metadata": {},
   "outputs": [
    {
     "name": "stdout",
     "output_type": "stream",
     "text": [
      "3 16\n",
      "3\n",
      "5\n",
      "7\n",
      "11\n",
      "13\n"
     ]
    }
   ],
   "source": [
    "def isprime(n):\n",
    "    if n == 1:\n",
    "        return False\n",
    "    else:\n",
    "        for i in range(2,int(n**0.5)+1):\n",
    "            if n%i ==0:\n",
    "                return False\n",
    "    return True\n",
    "    \n",
    "M,N = map(int,input().split())\n",
    "\n",
    "for i in range(M,N+1):\n",
    "    if isprime(i):\n",
    "        print(i)\n",
    "# 함수에 넣었더니 됐음"
   ]
  },
  {
   "cell_type": "code",
   "execution_count": null,
   "metadata": {},
   "outputs": [],
   "source": []
  }
 ],
 "metadata": {
  "kernelspec": {
   "display_name": "Python 3",
   "language": "python",
   "name": "python3"
  },
  "language_info": {
   "codemirror_mode": {
    "name": "ipython",
    "version": 3
   },
   "file_extension": ".py",
   "mimetype": "text/x-python",
   "name": "python",
   "nbconvert_exporter": "python",
   "pygments_lexer": "ipython3",
   "version": "3.8.5"
  }
 },
 "nbformat": 4,
 "nbformat_minor": 4
}
