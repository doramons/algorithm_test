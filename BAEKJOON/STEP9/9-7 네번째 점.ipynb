{
 "cells": [
  {
   "cell_type": "code",
   "execution_count": 1,
   "metadata": {},
   "outputs": [],
   "source": [
    "#처음 답"
   ]
  },
  {
   "cell_type": "code",
   "execution_count": 19,
   "metadata": {},
   "outputs": [
    {
     "name": "stdout",
     "output_type": "stream",
     "text": [
      "30 20\n",
      "10 10\n",
      "10 20\n",
      "30 10\n"
     ]
    }
   ],
   "source": [
    "a1,b1 = map(int,input().split())\n",
    "a2,b2 = map(int,input().split())\n",
    "a3,b3 = map(int,input().split())\n",
    "if a1 == a2:\n",
    "    a4 = a3\n",
    "elif a2 == a3:\n",
    "    a4 = a1\n",
    "else:\n",
    "    a4 = a2\n",
    "if b1 == b2:\n",
    "    b4 = b3\n",
    "elif b2 == b3:\n",
    "    b4 = b1\n",
    "else:\n",
    "    b4 = b2\n",
    "print(a4,b4)"
   ]
  },
  {
   "cell_type": "code",
   "execution_count": 11,
   "metadata": {},
   "outputs": [
    {
     "name": "stdout",
     "output_type": "stream",
     "text": [
      "20\n"
     ]
    }
   ],
   "source": [
    "a = [30,10,10]\n",
    "for i in a:\n",
    "    if i not in a:\n",
    "        a4 = i\n",
    "print(a4)"
   ]
  },
  {
   "cell_type": "code",
   "execution_count": 15,
   "metadata": {},
   "outputs": [],
   "source": [
    "a= [30,20,10]"
   ]
  },
  {
   "cell_type": "code",
   "execution_count": 16,
   "metadata": {},
   "outputs": [
    {
     "data": {
      "text/plain": [
       "[30, 20, 10, 10]"
      ]
     },
     "execution_count": 16,
     "metadata": {},
     "output_type": "execute_result"
    }
   ],
   "source": [
    "a + [10]"
   ]
  },
  {
   "cell_type": "code",
   "execution_count": 17,
   "metadata": {},
   "outputs": [
    {
     "name": "stdout",
     "output_type": "stream",
     "text": [
      "3\n"
     ]
    }
   ],
   "source": [
    "if True:\n",
    "    a = 3\n",
    "    print(a)"
   ]
  },
  {
   "cell_type": "code",
   "execution_count": null,
   "metadata": {},
   "outputs": [],
   "source": []
  }
 ],
 "metadata": {
  "kernelspec": {
   "display_name": "Python 3",
   "language": "python",
   "name": "python3"
  },
  "language_info": {
   "codemirror_mode": {
    "name": "ipython",
    "version": 3
   },
   "file_extension": ".py",
   "mimetype": "text/x-python",
   "name": "python",
   "nbconvert_exporter": "python",
   "pygments_lexer": "ipython3",
   "version": "3.8.5"
  }
 },
 "nbformat": 4,
 "nbformat_minor": 4
}
