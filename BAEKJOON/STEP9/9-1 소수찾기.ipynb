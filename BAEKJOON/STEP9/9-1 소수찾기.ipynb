{
 "cells": [
  {
   "cell_type": "code",
   "execution_count": 10,
   "metadata": {},
   "outputs": [
    {
     "name": "stdout",
     "output_type": "stream",
     "text": [
      "4\n",
      "1 3 5 7\n",
      "3\n"
     ]
    }
   ],
   "source": [
    "N = int(input())\n",
    "l = input().split()\n",
    "count = 0\n",
    "minic =0\n",
    "for i in range(N):\n",
    "    if int(l[i]) <= 3 and int(l[i])!=1:\n",
    "        count+=1\n",
    "    else:\n",
    "        minic = 0\n",
    "        for j in range(2,int(l[i])):\n",
    "            if int(l[i])%j == 0:\n",
    "                minic +=1\n",
    "        if minic == 0 and int(l[i])!= 1:\n",
    "            count += 1\n",
    "print(count)"
   ]
  },
  {
   "cell_type": "code",
   "execution_count": null,
   "metadata": {},
   "outputs": [],
   "source": []
  },
  {
   "cell_type": "code",
   "execution_count": null,
   "metadata": {},
   "outputs": [],
   "source": []
  }
 ],
 "metadata": {
  "kernelspec": {
   "display_name": "Python 3",
   "language": "python",
   "name": "python3"
  },
  "language_info": {
   "codemirror_mode": {
    "name": "ipython",
    "version": 3
   },
   "file_extension": ".py",
   "mimetype": "text/x-python",
   "name": "python",
   "nbconvert_exporter": "python",
   "pygments_lexer": "ipython3",
   "version": "3.8.5"
  }
 },
 "nbformat": 4,
 "nbformat_minor": 4
}
